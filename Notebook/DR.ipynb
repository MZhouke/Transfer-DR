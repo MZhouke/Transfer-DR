{
  "nbformat": 4,
  "nbformat_minor": 0,
  "metadata": {
    "colab": {
      "provenance": []
    },
    "kernelspec": {
      "name": "python3",
      "display_name": "Python 3"
    },
    "language_info": {
      "name": "python"
    },
    "accelerator": "GPU",
    "gpuClass": "standard",
    "widgets": {
      "application/vnd.jupyter.widget-state+json": {
        "cd4b50025a254eb7bea804e1934e9857": {
          "model_module": "@jupyter-widgets/controls",
          "model_name": "HBoxModel",
          "model_module_version": "1.5.0",
          "state": {
            "_dom_classes": [],
            "_model_module": "@jupyter-widgets/controls",
            "_model_module_version": "1.5.0",
            "_model_name": "HBoxModel",
            "_view_count": null,
            "_view_module": "@jupyter-widgets/controls",
            "_view_module_version": "1.5.0",
            "_view_name": "HBoxView",
            "box_style": "",
            "children": [
              "IPY_MODEL_f1ff4e5b4ecd468cb98db4feedded41e",
              "IPY_MODEL_6b7769978381492e8b293ba9cadfff7e",
              "IPY_MODEL_a8902f0ff72249a691c60d1bd7685351"
            ],
            "layout": "IPY_MODEL_767e387095964b19867b56d04fd83475"
          }
        },
        "f1ff4e5b4ecd468cb98db4feedded41e": {
          "model_module": "@jupyter-widgets/controls",
          "model_name": "HTMLModel",
          "model_module_version": "1.5.0",
          "state": {
            "_dom_classes": [],
            "_model_module": "@jupyter-widgets/controls",
            "_model_module_version": "1.5.0",
            "_model_name": "HTMLModel",
            "_view_count": null,
            "_view_module": "@jupyter-widgets/controls",
            "_view_module_version": "1.5.0",
            "_view_name": "HTMLView",
            "description": "",
            "description_tooltip": null,
            "layout": "IPY_MODEL_16d97aeb785d4a8badc9edf3bfb398c0",
            "placeholder": "​",
            "style": "IPY_MODEL_9af8afd06af14ef3a9a006c078404e91",
            "value": "100%"
          }
        },
        "6b7769978381492e8b293ba9cadfff7e": {
          "model_module": "@jupyter-widgets/controls",
          "model_name": "FloatProgressModel",
          "model_module_version": "1.5.0",
          "state": {
            "_dom_classes": [],
            "_model_module": "@jupyter-widgets/controls",
            "_model_module_version": "1.5.0",
            "_model_name": "FloatProgressModel",
            "_view_count": null,
            "_view_module": "@jupyter-widgets/controls",
            "_view_module_version": "1.5.0",
            "_view_name": "ProgressView",
            "bar_style": "success",
            "description": "",
            "description_tooltip": null,
            "layout": "IPY_MODEL_969174dafa054bc592dff59fc8fca03e",
            "max": 102540417,
            "min": 0,
            "orientation": "horizontal",
            "style": "IPY_MODEL_cc5c0ccf835045d481492e190b5b1732",
            "value": 102540417
          }
        },
        "a8902f0ff72249a691c60d1bd7685351": {
          "model_module": "@jupyter-widgets/controls",
          "model_name": "HTMLModel",
          "model_module_version": "1.5.0",
          "state": {
            "_dom_classes": [],
            "_model_module": "@jupyter-widgets/controls",
            "_model_module_version": "1.5.0",
            "_model_name": "HTMLModel",
            "_view_count": null,
            "_view_module": "@jupyter-widgets/controls",
            "_view_module_version": "1.5.0",
            "_view_name": "HTMLView",
            "description": "",
            "description_tooltip": null,
            "layout": "IPY_MODEL_0000b6726147468cb1bef004bbdc0673",
            "placeholder": "​",
            "style": "IPY_MODEL_50a9c03e246d451abc02bb9b500f6273",
            "value": " 97.8M/97.8M [00:00&lt;00:00, 229MB/s]"
          }
        },
        "767e387095964b19867b56d04fd83475": {
          "model_module": "@jupyter-widgets/base",
          "model_name": "LayoutModel",
          "model_module_version": "1.2.0",
          "state": {
            "_model_module": "@jupyter-widgets/base",
            "_model_module_version": "1.2.0",
            "_model_name": "LayoutModel",
            "_view_count": null,
            "_view_module": "@jupyter-widgets/base",
            "_view_module_version": "1.2.0",
            "_view_name": "LayoutView",
            "align_content": null,
            "align_items": null,
            "align_self": null,
            "border": null,
            "bottom": null,
            "display": null,
            "flex": null,
            "flex_flow": null,
            "grid_area": null,
            "grid_auto_columns": null,
            "grid_auto_flow": null,
            "grid_auto_rows": null,
            "grid_column": null,
            "grid_gap": null,
            "grid_row": null,
            "grid_template_areas": null,
            "grid_template_columns": null,
            "grid_template_rows": null,
            "height": null,
            "justify_content": null,
            "justify_items": null,
            "left": null,
            "margin": null,
            "max_height": null,
            "max_width": null,
            "min_height": null,
            "min_width": null,
            "object_fit": null,
            "object_position": null,
            "order": null,
            "overflow": null,
            "overflow_x": null,
            "overflow_y": null,
            "padding": null,
            "right": null,
            "top": null,
            "visibility": null,
            "width": null
          }
        },
        "16d97aeb785d4a8badc9edf3bfb398c0": {
          "model_module": "@jupyter-widgets/base",
          "model_name": "LayoutModel",
          "model_module_version": "1.2.0",
          "state": {
            "_model_module": "@jupyter-widgets/base",
            "_model_module_version": "1.2.0",
            "_model_name": "LayoutModel",
            "_view_count": null,
            "_view_module": "@jupyter-widgets/base",
            "_view_module_version": "1.2.0",
            "_view_name": "LayoutView",
            "align_content": null,
            "align_items": null,
            "align_self": null,
            "border": null,
            "bottom": null,
            "display": null,
            "flex": null,
            "flex_flow": null,
            "grid_area": null,
            "grid_auto_columns": null,
            "grid_auto_flow": null,
            "grid_auto_rows": null,
            "grid_column": null,
            "grid_gap": null,
            "grid_row": null,
            "grid_template_areas": null,
            "grid_template_columns": null,
            "grid_template_rows": null,
            "height": null,
            "justify_content": null,
            "justify_items": null,
            "left": null,
            "margin": null,
            "max_height": null,
            "max_width": null,
            "min_height": null,
            "min_width": null,
            "object_fit": null,
            "object_position": null,
            "order": null,
            "overflow": null,
            "overflow_x": null,
            "overflow_y": null,
            "padding": null,
            "right": null,
            "top": null,
            "visibility": null,
            "width": null
          }
        },
        "9af8afd06af14ef3a9a006c078404e91": {
          "model_module": "@jupyter-widgets/controls",
          "model_name": "DescriptionStyleModel",
          "model_module_version": "1.5.0",
          "state": {
            "_model_module": "@jupyter-widgets/controls",
            "_model_module_version": "1.5.0",
            "_model_name": "DescriptionStyleModel",
            "_view_count": null,
            "_view_module": "@jupyter-widgets/base",
            "_view_module_version": "1.2.0",
            "_view_name": "StyleView",
            "description_width": ""
          }
        },
        "969174dafa054bc592dff59fc8fca03e": {
          "model_module": "@jupyter-widgets/base",
          "model_name": "LayoutModel",
          "model_module_version": "1.2.0",
          "state": {
            "_model_module": "@jupyter-widgets/base",
            "_model_module_version": "1.2.0",
            "_model_name": "LayoutModel",
            "_view_count": null,
            "_view_module": "@jupyter-widgets/base",
            "_view_module_version": "1.2.0",
            "_view_name": "LayoutView",
            "align_content": null,
            "align_items": null,
            "align_self": null,
            "border": null,
            "bottom": null,
            "display": null,
            "flex": null,
            "flex_flow": null,
            "grid_area": null,
            "grid_auto_columns": null,
            "grid_auto_flow": null,
            "grid_auto_rows": null,
            "grid_column": null,
            "grid_gap": null,
            "grid_row": null,
            "grid_template_areas": null,
            "grid_template_columns": null,
            "grid_template_rows": null,
            "height": null,
            "justify_content": null,
            "justify_items": null,
            "left": null,
            "margin": null,
            "max_height": null,
            "max_width": null,
            "min_height": null,
            "min_width": null,
            "object_fit": null,
            "object_position": null,
            "order": null,
            "overflow": null,
            "overflow_x": null,
            "overflow_y": null,
            "padding": null,
            "right": null,
            "top": null,
            "visibility": null,
            "width": null
          }
        },
        "cc5c0ccf835045d481492e190b5b1732": {
          "model_module": "@jupyter-widgets/controls",
          "model_name": "ProgressStyleModel",
          "model_module_version": "1.5.0",
          "state": {
            "_model_module": "@jupyter-widgets/controls",
            "_model_module_version": "1.5.0",
            "_model_name": "ProgressStyleModel",
            "_view_count": null,
            "_view_module": "@jupyter-widgets/base",
            "_view_module_version": "1.2.0",
            "_view_name": "StyleView",
            "bar_color": null,
            "description_width": ""
          }
        },
        "0000b6726147468cb1bef004bbdc0673": {
          "model_module": "@jupyter-widgets/base",
          "model_name": "LayoutModel",
          "model_module_version": "1.2.0",
          "state": {
            "_model_module": "@jupyter-widgets/base",
            "_model_module_version": "1.2.0",
            "_model_name": "LayoutModel",
            "_view_count": null,
            "_view_module": "@jupyter-widgets/base",
            "_view_module_version": "1.2.0",
            "_view_name": "LayoutView",
            "align_content": null,
            "align_items": null,
            "align_self": null,
            "border": null,
            "bottom": null,
            "display": null,
            "flex": null,
            "flex_flow": null,
            "grid_area": null,
            "grid_auto_columns": null,
            "grid_auto_flow": null,
            "grid_auto_rows": null,
            "grid_column": null,
            "grid_gap": null,
            "grid_row": null,
            "grid_template_areas": null,
            "grid_template_columns": null,
            "grid_template_rows": null,
            "height": null,
            "justify_content": null,
            "justify_items": null,
            "left": null,
            "margin": null,
            "max_height": null,
            "max_width": null,
            "min_height": null,
            "min_width": null,
            "object_fit": null,
            "object_position": null,
            "order": null,
            "overflow": null,
            "overflow_x": null,
            "overflow_y": null,
            "padding": null,
            "right": null,
            "top": null,
            "visibility": null,
            "width": null
          }
        },
        "50a9c03e246d451abc02bb9b500f6273": {
          "model_module": "@jupyter-widgets/controls",
          "model_name": "DescriptionStyleModel",
          "model_module_version": "1.5.0",
          "state": {
            "_model_module": "@jupyter-widgets/controls",
            "_model_module_version": "1.5.0",
            "_model_name": "DescriptionStyleModel",
            "_view_count": null,
            "_view_module": "@jupyter-widgets/base",
            "_view_module_version": "1.2.0",
            "_view_name": "StyleView",
            "description_width": ""
          }
        }
      }
    }
  },
  "cells": [
    {
      "cell_type": "markdown",
      "source": [
        "# 1. Setup"
      ],
      "metadata": {
        "id": "0WuponWh2bJc"
      }
    },
    {
      "cell_type": "code",
      "source": [
        "!pip install medmnist"
      ],
      "metadata": {
        "colab": {
          "base_uri": "https://localhost:8080/"
        },
        "id": "vrjhqf6zhbdw",
        "outputId": "2e48d8bb-92bb-453b-edd9-7fb04fc0e4ab"
      },
      "execution_count": 1,
      "outputs": [
        {
          "output_type": "stream",
          "name": "stdout",
          "text": [
            "Looking in indexes: https://pypi.org/simple, https://us-python.pkg.dev/colab-wheels/public/simple/\n",
            "Collecting medmnist\n",
            "  Downloading medmnist-2.1.0-py3-none-any.whl (21 kB)\n",
            "Requirement already satisfied: scikit-image in /usr/local/lib/python3.8/dist-packages (from medmnist) (0.19.3)\n",
            "Requirement already satisfied: numpy in /usr/local/lib/python3.8/dist-packages (from medmnist) (1.22.4)\n",
            "Requirement already satisfied: Pillow in /usr/local/lib/python3.8/dist-packages (from medmnist) (8.4.0)\n",
            "Collecting fire\n",
            "  Downloading fire-0.5.0.tar.gz (88 kB)\n",
            "\u001b[2K     \u001b[90m━━━━━━━━━━━━━━━━━━━━━━━━━━━━━━━━━━━━━━━━\u001b[0m \u001b[32m88.3/88.3 KB\u001b[0m \u001b[31m13.1 MB/s\u001b[0m eta \u001b[36m0:00:00\u001b[0m\n",
            "\u001b[?25h  Preparing metadata (setup.py) ... \u001b[?25l\u001b[?25hdone\n",
            "Requirement already satisfied: torch in /usr/local/lib/python3.8/dist-packages (from medmnist) (1.13.1+cu116)\n",
            "Requirement already satisfied: pandas in /usr/local/lib/python3.8/dist-packages (from medmnist) (1.3.5)\n",
            "Requirement already satisfied: scikit-learn in /usr/local/lib/python3.8/dist-packages (from medmnist) (1.2.1)\n",
            "Requirement already satisfied: torchvision in /usr/local/lib/python3.8/dist-packages (from medmnist) (0.14.1+cu116)\n",
            "Requirement already satisfied: tqdm in /usr/local/lib/python3.8/dist-packages (from medmnist) (4.64.1)\n",
            "Requirement already satisfied: six in /usr/local/lib/python3.8/dist-packages (from fire->medmnist) (1.15.0)\n",
            "Requirement already satisfied: termcolor in /usr/local/lib/python3.8/dist-packages (from fire->medmnist) (2.2.0)\n",
            "Requirement already satisfied: pytz>=2017.3 in /usr/local/lib/python3.8/dist-packages (from pandas->medmnist) (2022.7.1)\n",
            "Requirement already satisfied: python-dateutil>=2.7.3 in /usr/local/lib/python3.8/dist-packages (from pandas->medmnist) (2.8.2)\n",
            "Requirement already satisfied: imageio>=2.4.1 in /usr/local/lib/python3.8/dist-packages (from scikit-image->medmnist) (2.9.0)\n",
            "Requirement already satisfied: packaging>=20.0 in /usr/local/lib/python3.8/dist-packages (from scikit-image->medmnist) (23.0)\n",
            "Requirement already satisfied: scipy>=1.4.1 in /usr/local/lib/python3.8/dist-packages (from scikit-image->medmnist) (1.10.1)\n",
            "Requirement already satisfied: tifffile>=2019.7.26 in /usr/local/lib/python3.8/dist-packages (from scikit-image->medmnist) (2023.2.27)\n",
            "Requirement already satisfied: PyWavelets>=1.1.1 in /usr/local/lib/python3.8/dist-packages (from scikit-image->medmnist) (1.4.1)\n",
            "Requirement already satisfied: networkx>=2.2 in /usr/local/lib/python3.8/dist-packages (from scikit-image->medmnist) (3.0)\n",
            "Requirement already satisfied: threadpoolctl>=2.0.0 in /usr/local/lib/python3.8/dist-packages (from scikit-learn->medmnist) (3.1.0)\n",
            "Requirement already satisfied: joblib>=1.1.1 in /usr/local/lib/python3.8/dist-packages (from scikit-learn->medmnist) (1.2.0)\n",
            "Requirement already satisfied: typing-extensions in /usr/local/lib/python3.8/dist-packages (from torch->medmnist) (4.5.0)\n",
            "Requirement already satisfied: requests in /usr/local/lib/python3.8/dist-packages (from torchvision->medmnist) (2.25.1)\n",
            "Requirement already satisfied: idna<3,>=2.5 in /usr/local/lib/python3.8/dist-packages (from requests->torchvision->medmnist) (2.10)\n",
            "Requirement already satisfied: chardet<5,>=3.0.2 in /usr/local/lib/python3.8/dist-packages (from requests->torchvision->medmnist) (4.0.0)\n",
            "Requirement already satisfied: certifi>=2017.4.17 in /usr/local/lib/python3.8/dist-packages (from requests->torchvision->medmnist) (2022.12.7)\n",
            "Requirement already satisfied: urllib3<1.27,>=1.21.1 in /usr/local/lib/python3.8/dist-packages (from requests->torchvision->medmnist) (1.26.14)\n",
            "Building wheels for collected packages: fire\n",
            "  Building wheel for fire (setup.py) ... \u001b[?25l\u001b[?25hdone\n",
            "  Created wheel for fire: filename=fire-0.5.0-py2.py3-none-any.whl size=116949 sha256=2dc426fbfd26901ea10fa8c62092c4b979c48232313d3b5180f43bc52c96c6c6\n",
            "  Stored in directory: /root/.cache/pip/wheels/5b/eb/43/7295e71293b218ddfd627f935229bf54af9018add7fbb5aac6\n",
            "Successfully built fire\n",
            "Installing collected packages: fire, medmnist\n",
            "Successfully installed fire-0.5.0 medmnist-2.1.0\n"
          ]
        }
      ]
    },
    {
      "cell_type": "code",
      "source": [
        "!pip install opencv-python"
      ],
      "metadata": {
        "colab": {
          "base_uri": "https://localhost:8080/"
        },
        "id": "bln8rmDa9HVX",
        "outputId": "91736a2e-1475-4941-a1a0-dd6fc4aae417"
      },
      "execution_count": 2,
      "outputs": [
        {
          "output_type": "stream",
          "name": "stdout",
          "text": [
            "Looking in indexes: https://pypi.org/simple, https://us-python.pkg.dev/colab-wheels/public/simple/\n",
            "Requirement already satisfied: opencv-python in /usr/local/lib/python3.8/dist-packages (4.6.0.66)\n",
            "Requirement already satisfied: numpy>=1.14.5 in /usr/local/lib/python3.8/dist-packages (from opencv-python) (1.22.4)\n"
          ]
        }
      ]
    },
    {
      "cell_type": "code",
      "source": [
        "from google.colab import drive\n",
        "drive.mount('/content/drive')"
      ],
      "metadata": {
        "colab": {
          "base_uri": "https://localhost:8080/"
        },
        "id": "6J7LR93egy4V",
        "outputId": "6daaaa1c-71f0-49e6-f282-9be11b561516"
      },
      "execution_count": 3,
      "outputs": [
        {
          "output_type": "stream",
          "name": "stdout",
          "text": [
            "Mounted at /content/drive\n"
          ]
        }
      ]
    },
    {
      "cell_type": "code",
      "source": [
        "# Import dependencies\n",
        "# Here we load the packages that we need for the rest of the practical\n",
        "import numpy as np\n",
        "import matplotlib.pyplot as plt\n",
        "%matplotlib inline\n",
        "from mpl_toolkits import mplot3d\n",
        "import warnings\n",
        "warnings.filterwarnings(action='ignore', category=FutureWarning)\n",
        "import torch \n",
        "import torch.nn as nn\n",
        "import time\n",
        "import torch.nn.functional as F # Contains some additional functions such as activations\n",
        "from torch.autograd import Variable\n",
        "from collections import OrderedDict\n",
        "from torch.utils.data import Dataset, DataLoader\n",
        "import math\n",
        "import medmnist\n",
        "from medmnist import INFO\n",
        "from torchvision import transforms\n",
        "from torchvision.models import resnet50, ResNet50_Weights\n",
        "import torch.optim as optim\n",
        "import torch.utils.data as data\n",
        "import cv2"
      ],
      "metadata": {
        "id": "PCGHvog02WuX"
      },
      "execution_count": 4,
      "outputs": []
    },
    {
      "cell_type": "code",
      "execution_count": 5,
      "outputs": [
        {
          "output_type": "stream",
          "name": "stdout",
          "text": [
            "MedMNIST v2.1.0 @ https://github.com/MedMNIST/MedMNIST/\n"
          ]
        }
      ],
      "source": [
        "print(f\"MedMNIST v{medmnist.__version__} @ {medmnist.HOMEPAGE}\")"
      ],
      "metadata": {
        "colab": {
          "base_uri": "https://localhost:8080/"
        },
        "id": "z6GRUnpkgnFb",
        "outputId": "a895cca2-8061-4f81-e8b8-c73fec8cab58"
      }
    },
    {
      "cell_type": "markdown",
      "source": [
        "Some Helper"
      ],
      "metadata": {
        "collapsed": false,
        "id": "HN0cRyXmgnFb"
      }
    },
    {
      "cell_type": "code",
      "execution_count": 6,
      "outputs": [],
      "source": [
        "def plot_bar(x, y, description):\n",
        "    fig, ax = plt.subplots()\n",
        "    ax.bar(y, x)\n",
        "    ax.set_xlabel(description)\n",
        "    ax.set_ylabel('Number of Images')\n",
        "    ax.set_title('Distribution of ' + description)\n",
        "    plt.show()"
      ],
      "metadata": {
        "id": "8fUHa_HCgnFc"
      }
    },
    {
      "cell_type": "code",
      "execution_count": 7,
      "outputs": [],
      "source": [
        "def plot_loss_acc(losses, max_epochs):\n",
        "  losses = np.array(losses).T\n",
        "  epochs = np.linspace(1, max_epochs, max_epochs)\n",
        "\n",
        "  plt.figure(figsize=(10, 6))\n",
        "  plt.subplot(1,2,1)\n",
        "  plt.plot(epochs, losses[0,:])\n",
        "  plt.plot(epochs, losses[2,:])\n",
        "  plt.xlabel('Epoch')\n",
        "  plt.ylabel('Loss')\n",
        "  plt.subplot(1,2,2)\n",
        "  plt.plot(epochs, losses[1,:])\n",
        "  plt.plot(epochs, losses[3,:])\n",
        "  plt.xlabel('Epoch')\n",
        "  plt.ylabel('Accuracy')\n",
        "  plt.legend(['Train', 'Validation'])\n",
        "  plt.show()"
      ],
      "metadata": {
        "id": "7nnzulL3gnFc"
      }
    },
    {
      "cell_type": "markdown",
      "source": [
        "# Data Pre-processing"
      ],
      "metadata": {
        "collapsed": false,
        "id": "QSb9aZWZgnFc"
      }
    },
    {
      "cell_type": "markdown",
      "source": [
        "## Load Data"
      ],
      "metadata": {
        "collapsed": false,
        "id": "G410wpshgnFc"
      }
    },
    {
      "cell_type": "code",
      "execution_count": 8,
      "outputs": [],
      "source": [
        "# First we load the data\n",
        "dataset = np.load('/content/drive/MyDrive/DR-Solution/Data/retinamnist.npz')\n",
        "data = {'train': dataset['train_images'], 'test': dataset['test_images'], 'val': dataset['val_images']}\n",
        "labels = {'train':  dataset['train_labels'], 'test': dataset['test_labels'], 'val': dataset['val_labels']}\n",
        "classes = ['No DR','Mild','Moderate','Severe','Proliferative DR']"
      ],
      "metadata": {
        "id": "JsP3sN4jgnFd"
      }
    },
    {
      "cell_type": "code",
      "execution_count": 9,
      "outputs": [],
      "source": [
        "data_flag = 'retinamnist'\n",
        "info = INFO[data_flag]\n",
        "task = info['task']"
      ],
      "metadata": {
        "id": "rM6WEUVVgnFd"
      }
    },
    {
      "cell_type": "markdown",
      "source": [
        "## Params"
      ],
      "metadata": {
        "id": "E5EXypkNzDL_"
      }
    },
    {
      "cell_type": "code",
      "execution_count": 29,
      "outputs": [],
      "source": [
        "Params = {\n",
        "    'n_channels' : info['n_channels'],\n",
        "    'n_classes' : len(info['label']),\n",
        "    'n_Epochs' : 30,\n",
        "    'BATCH_SIZE' : 128,\n",
        "    'lr' : 0.001,\n",
        "    'input_d': 112,\n",
        "    'hidden_d': 128,\n",
        "    'n_fc': 4,\n",
        "    'stop' : 10,\n",
        "    'weights': ResNet50_Weights.DEFAULT,\n",
        "}"
      ],
      "metadata": {
        "id": "zVr1zC4bgnFd"
      }
    },
    {
      "cell_type": "markdown",
      "source": [
        "## Examine Data"
      ],
      "metadata": {
        "collapsed": false,
        "id": "e8WFedIPgnFd"
      }
    },
    {
      "cell_type": "markdown",
      "source": [
        "### Data Shape"
      ],
      "metadata": {
        "collapsed": false,
        "id": "hy_S3eATgnFd"
      }
    },
    {
      "cell_type": "code",
      "execution_count": 12,
      "outputs": [
        {
          "output_type": "stream",
          "name": "stdout",
          "text": [
            "Shape of data: (28, 28, 3)\n"
          ]
        }
      ],
      "source": [
        "print(\"Shape of data:\", data['train'][0].shape)"
      ],
      "metadata": {
        "colab": {
          "base_uri": "https://localhost:8080/"
        },
        "id": "3bO6-ALHgnFd",
        "outputId": "bf1499c0-0d08-4881-e0b4-f00dc553b3fa"
      }
    },
    {
      "cell_type": "markdown",
      "source": [
        "### Data Balance"
      ],
      "metadata": {
        "collapsed": false,
        "id": "BKZGQomKgnFd"
      }
    },
    {
      "cell_type": "code",
      "execution_count": 13,
      "outputs": [
        {
          "output_type": "display_data",
          "data": {
            "text/plain": [
              "<Figure size 432x288 with 1 Axes>"
            ],
            "image/png": "[encoded data removed]"
          },
          "metadata": {
            "needs_background": "light"
          }
        }
      ],
      "source": [
        "plot_bar([len(data['train']), len(data['test']), len(data['val'])], ['train', 'test', 'val'], 'Datasets')"
      ],
      "metadata": {
        "colab": {
          "base_uri": "https://localhost:8080/",
          "height": 295
        },
        "id": "3LGZuJi6gnFe",
        "outputId": "d41e5e65-84a3-495b-d576-6ac9ccfe0366"
      }
    },
    {
      "cell_type": "code",
      "execution_count": 14,
      "outputs": [
        {
          "output_type": "display_data",
          "data": {
            "text/plain": [
              "<Figure size 432x288 with 1 Axes>"
            ],
            "image/png": "[encoded data removed]"
          },
          "metadata": {
            "needs_background": "light"
          }
        },
        {
          "output_type": "display_data",
          "data": {
            "text/plain": [
              "<Figure size 432x288 with 1 Axes>"
            ],
            "image/png": "[encoded data removed]"
          },
          "metadata": {
            "needs_background": "light"
          }
        },
        {
          "output_type": "display_data",
          "data": {
            "text/plain": [
              "<Figure size 432x288 with 1 Axes>"
            ],
            "image/png": "[encoded data removed]"
          },
          "metadata": {
            "needs_background": "light"
          }
        }
      ],
      "source": [
        "for split in labels:\n",
        "    distribution = []\n",
        "    for i in range(len(classes)):\n",
        "        c = classes[i]\n",
        "        examples = [example for example in labels[split] if example == i]\n",
        "        distribution.append(len(examples))\n",
        "    plot_bar(distribution, classes, split)"
      ],
      "metadata": {
        "colab": {
          "base_uri": "https://localhost:8080/",
          "height": 851
        },
        "id": "wDJzcoPSgnFe",
        "outputId": "3b282504-2eb7-4b37-d22f-50044013d32b"
      }
    },
    {
      "cell_type": "code",
      "execution_count": 15,
      "outputs": [
        {
          "output_type": "display_data",
          "data": {
            "text/plain": [
              "<Figure size 432x288 with 1 Axes>"
            ],
            "image/png": "[encoded data removed]"
          },
          "metadata": {
            "needs_background": "light"
          }
        },
        {
          "output_type": "display_data",
          "data": {
            "text/plain": [
              "<Figure size 432x288 with 1 Axes>"
            ],
            "image/png": "[encoded data removed]"
          },
          "metadata": {
            "needs_background": "light"
          }
        },
        {
          "output_type": "display_data",
          "data": {
            "text/plain": [
              "<Figure size 432x288 with 1 Axes>"
            ],
            "image/png": "[encoded data removed]"
          },
          "metadata": {
            "needs_background": "light"
          }
        },
        {
          "output_type": "display_data",
          "data": {
            "text/plain": [
              "<Figure size 432x288 with 1 Axes>"
            ],
            "image/png": "[encoded data removed]"
          },
          "metadata": {
            "needs_background": "light"
          }
        },
        {
          "output_type": "display_data",
          "data": {
            "text/plain": [
              "<Figure size 432x288 with 1 Axes>"
            ],
            "image/png": "[encoded data removed]"
          },
          "metadata": {
            "needs_background": "light"
          }
        }
      ],
      "source": [
        "# Display the image\n",
        "for j in range(len(classes)):\n",
        "    i = 0\n",
        "    while labels['train'][i] != j:\n",
        "      i+=1\n",
        "    plt.title(classes[j])\n",
        "    plt.imshow(data['train'][i], interpolation='nearest')\n",
        "    plt.show()"
      ],
      "metadata": {
        "colab": {
          "base_uri": "https://localhost:8080/",
          "height": 1000
        },
        "id": "ecJPDUSJgnFe",
        "outputId": "e3a07e00-48f8-4af0-98c6-560bc4f23bff"
      }
    },
    {
      "cell_type": "markdown",
      "source": [
        "## Apply CLACHE"
      ],
      "metadata": {
        "id": "_OIm_Yi4Feqc"
      }
    },
    {
      "cell_type": "code",
      "source": [
        "image = data['train'][0]\n",
        "plt.imshow(image)\n",
        "plt.show()\n",
        "plt.imshow(image[:,:,0])\n",
        "plt.show()\n",
        "plt.imshow(image[:,:,1])\n",
        "plt.show()\n",
        "plt.imshow(image[:,:,2])\n",
        "plt.show()\n",
        "image_bw = cv2.cvtColor(image, cv2.COLOR_BGR2GRAY)\n",
        "plt.imshow(image_bw)\n",
        "plt.show()\n",
        " \n",
        "# The declaration of CLAHE\n",
        "# clipLimit -> Threshold for contrast limiting\n",
        "clahe = cv2.createCLAHE(clipLimit = 5)\n",
        "final_img = np.array([clahe.apply(image[:,:,i]) + 10 if i == 0 else image[:, :, i] for i in range(3)])\n",
        "final_img = np.transpose(final_img, (1, 2, 0))\n",
        "print(final_img.shape)\n",
        "plt.imshow(final_img)"
      ],
      "metadata": {
        "colab": {
          "base_uri": "https://localhost:8080/",
          "height": 1000
        },
        "id": "gzVIi8eE_E3r",
        "outputId": "8ada1837-7f49-47b7-b923-3619e5dfb5ad"
      },
      "execution_count": 16,
      "outputs": [
        {
          "output_type": "display_data",
          "data": {
            "text/plain": [
              "<Figure size 432x288 with 1 Axes>"
            ],
            "image/png": "[encoded data removed]"
          },
          "metadata": {
            "needs_background": "light"
          }
        },
        {
          "output_type": "display_data",
          "data": {
            "text/plain": [
              "<Figure size 432x288 with 1 Axes>"
            ],
            "image/png": "[encoded data removed]"
          },
          "metadata": {
            "needs_background": "light"
          }
        },
        {
          "output_type": "display_data",
          "data": {
            "text/plain": [
              "<Figure size 432x288 with 1 Axes>"
            ],
            "image/png": "[encoded data removed]"
          },
          "metadata": {
            "needs_background": "light"
          }
        },
        {
          "output_type": "display_data",
          "data": {
            "text/plain": [
              "<Figure size 432x288 with 1 Axes>"
            ],
            "image/png": "[encoded data removed]"
          },
          "metadata": {
            "needs_background": "light"
          }
        },
        {
          "output_type": "display_data",
          "data": {
            "text/plain": [
              "<Figure size 432x288 with 1 Axes>"
            ],
            "image/png": "[encoded data removed]"
          },
          "metadata": {
            "needs_background": "light"
          }
        },
        {
          "output_type": "stream",
          "name": "stdout",
          "text": [
            "(28, 28, 3)\n"
          ]
        },
        {
          "output_type": "execute_result",
          "data": {
            "text/plain": [
              "<matplotlib.image.AxesImage at 0x7f8a78052cd0>"
            ]
          },
          "metadata": {},
          "execution_count": 16
        },
        {
          "output_type": "display_data",
          "data": {
            "text/plain": [
              "<Figure size 432x288 with 1 Axes>"
            ],
            "image/png": "[encoded data removed]"
          },
          "metadata": {
            "needs_background": "light"
          }
        }
      ]
    },
    {
      "cell_type": "code",
      "source": [
        "def apply_clache(img):\n",
        "  clahe = cv2.createCLAHE(clipLimit = 5)\n",
        "  out_img = np.transpose(np.array([clahe.apply(img[:,:,i]) + 10 for i in range(3)]), (1, 2, 0))\n",
        "  return out_img"
      ],
      "metadata": {
        "id": "yh3XSbo6BdRE"
      },
      "execution_count": 17,
      "outputs": []
    },
    {
      "cell_type": "markdown",
      "source": [
        "## Normalizing"
      ],
      "metadata": {
        "collapsed": false,
        "id": "W9R2EavwgnFe"
      }
    },
    {
      "cell_type": "code",
      "execution_count": 18,
      "outputs": [],
      "source": [
        "data_transform = transforms.Compose([\n",
        "    apply_clache,\n",
        "    transforms.ToTensor(),\n",
        "    Params['weights'].transforms(),\n",
        "    transforms.Normalize(mean=[0.43, 0.41, 0.39], std=[0.229, 0.224, 0.225]),\n",
        "])\n",
        "def to_one_hot(y, num_classes):\n",
        "    y = y.squeeze()\n",
        "    store = np.eye(num_classes)[y]\n",
        "    return store"
      ],
      "metadata": {
        "id": "1XRln7-TgnFe"
      }
    },
    {
      "cell_type": "code",
      "execution_count": 19,
      "outputs": [],
      "source": [
        "class numpy_dataset(Dataset):  # Inherit from Dataset class\n",
        "    def __init__(self, input_data, target, transform = None):\n",
        "        self.data = input_data\n",
        "        self.target = torch.from_numpy(to_one_hot(target, Params['n_classes'])).to(torch.float32)\n",
        "        self.transform = transform\n",
        "\n",
        "    def __getitem__(self, index):\n",
        "        x = self.data[index]\n",
        "        y = self.target[index]\n",
        "        if self.transform:\n",
        "            x = self.transform(self.data[index])\n",
        "        return x, y\n",
        "\n",
        "    def __len__(self):\n",
        "        return len(self.data)"
      ],
      "metadata": {
        "id": "b7CXaMwygnFe"
      }
    },
    {
      "cell_type": "code",
      "execution_count": 30,
      "outputs": [],
      "source": [
        "train_dataset = numpy_dataset(data['train'], labels['train'], transform = data_transform)\n",
        "val_dataset = numpy_dataset(data['val'], labels['val'], transform = data_transform)\n",
        "train_dataloader = DataLoader(train_dataset, batch_size=Params['BATCH_SIZE'], shuffle=True, drop_last=True)\n",
        "val_dataloader = DataLoader(val_dataset, batch_size=32, shuffle=False, drop_last=True)"
      ],
      "metadata": {
        "id": "6fGXW8GEgnFe"
      }
    },
    {
      "cell_type": "code",
      "execution_count": 21,
      "outputs": [
        {
          "output_type": "stream",
          "name": "stderr",
          "text": [
            "WARNING:matplotlib.image:Clipping input data to the valid range for imshow with RGB data ([0..1] for floats or [0..255] for integers).\n"
          ]
        },
        {
          "output_type": "stream",
          "name": "stdout",
          "text": [
            "Train batch shape: (32, 3, 224, 224)\n",
            "Train label shape: (32, 5)\n",
            "Train batch mean across channels: [-0.3894497  -0.45690876 -0.31130055]\n",
            "Train batch std across channels: [3.629223  3.8331134 3.882568 ]\n"
          ]
        },
        {
          "output_type": "display_data",
          "data": {
            "text/plain": [
              "<Figure size 432x288 with 1 Axes>"
            ],
            "image/png": "[encoded data removed]"
          },
          "metadata": {
            "needs_background": "light"
          }
        }
      ],
      "source": [
        "sample = next(iter(train_dataloader))\n",
        "train_sample = sample[0].numpy()\n",
        "train_label = sample[1].numpy()\n",
        "print(\"Train batch shape:\", train_sample.shape)\n",
        "print(\"Train label shape:\", train_label.shape)\n",
        "print(\"Train batch mean across channels:\", np.mean(train_sample, axis = (0, 2, 3)))\n",
        "print(\"Train batch std across channels:\", np.std(train_sample, axis = (0, 2, 3)))\n",
        "plt.title(\"Label: \" + classes[np.argmin(train_label[0])])\n",
        "plt.imshow(np.transpose(train_sample[0], (1, 2, 0)), interpolation='nearest')\n",
        "plt.show()"
      ],
      "metadata": {
        "colab": {
          "base_uri": "https://localhost:8080/",
          "height": 390
        },
        "id": "arZ29XragnFe",
        "outputId": "2803b3e6-be7e-431b-8e8d-b259856c7417"
      }
    },
    {
      "cell_type": "code",
      "execution_count": 22,
      "outputs": [
        {
          "output_type": "execute_result",
          "data": {
            "text/plain": [
              "Text(0.5, 0, 'Intensity Value')"
            ]
          },
          "metadata": {},
          "execution_count": 22
        },
        {
          "output_type": "display_data",
          "data": {
            "text/plain": [
              "<Figure size 432x288 with 1 Axes>"
            ],
            "image/png": "[encoded data removed]"
          },
          "metadata": {
            "needs_background": "light"
          }
        }
      ],
      "source": [
        "plt.hist(train_sample.flatten())\n",
        "plt.title('Normalized Distribution')\n",
        "plt.xlabel('Intensity Value')"
      ],
      "metadata": {
        "colab": {
          "base_uri": "https://localhost:8080/",
          "height": 313
        },
        "id": "a5uoPYw6gnFe",
        "outputId": "1f379747-122a-42a0-dd75-5c8ee68d51e2"
      }
    },
    {
      "cell_type": "markdown",
      "source": [
        "# Model"
      ],
      "metadata": {
        "collapsed": false,
        "id": "_M5CpV-GgnFf"
      }
    },
    {
      "cell_type": "code",
      "execution_count": 23,
      "outputs": [
        {
          "output_type": "execute_result",
          "data": {
            "text/plain": [
              "device(type='cuda', index=0)"
            ]
          },
          "metadata": {},
          "execution_count": 23
        }
      ],
      "source": [
        "device = torch.device(\"cuda:0\" if torch.cuda.is_available() else \"cpu\")\n",
        "device"
      ],
      "metadata": {
        "colab": {
          "base_uri": "https://localhost:8080/"
        },
        "id": "imvCsYM8gnFf",
        "outputId": "dab0d0ea-5f64-4a69-85fb-259b0ea52bb8"
      }
    },
    {
      "cell_type": "markdown",
      "source": [
        "## Transfer Learning with Resnet50"
      ],
      "metadata": {
        "collapsed": false,
        "id": "6agyHh5rgnFf"
      }
    },
    {
      "cell_type": "code",
      "execution_count": 24,
      "outputs": [
        {
          "output_type": "stream",
          "name": "stderr",
          "text": [
            "Downloading: \"https://download.pytorch.org/models/resnet50-11ad3fa6.pth\" to /root/.cache/torch/hub/checkpoints/resnet50-11ad3fa6.pth\n"
          ]
        },
        {
          "output_type": "display_data",
          "data": {
            "text/plain": [
              "  0%|          | 0.00/97.8M [00:00<?, ?B/s]"
            ],
            "application/vnd.jupyter.widget-view+json": {
              "version_major": 2,
              "version_minor": 0,
              "model_id": "cd4b50025a254eb7bea804e1934e9857"
            }
          },
          "metadata": {}
        }
      ],
      "source": [
        "pt_res = resnet50(weights = Params['weights'])\n",
        "for param in pt_res.parameters():\n",
        "    param.requires_grad = False\n",
        "pt_res_out = pt_res.fc.out_features"
      ],
      "metadata": {
        "id": "XM6lc9M7gnFf",
        "colab": {
          "base_uri": "https://localhost:8080/",
          "height": 87,
          "referenced_widgets": [
            "cd4b50025a254eb7bea804e1934e9857",
            "f1ff4e5b4ecd468cb98db4feedded41e",
            "6b7769978381492e8b293ba9cadfff7e",
            "a8902f0ff72249a691c60d1bd7685351",
            "767e387095964b19867b56d04fd83475",
            "16d97aeb785d4a8badc9edf3bfb398c0",
            "9af8afd06af14ef3a9a006c078404e91",
            "969174dafa054bc592dff59fc8fca03e",
            "cc5c0ccf835045d481492e190b5b1732",
            "0000b6726147468cb1bef004bbdc0673",
            "50a9c03e246d451abc02bb9b500f6273"
          ]
        },
        "outputId": "07265669-8e40-4145-efb9-d7757826fbd6"
      }
    },
    {
      "cell_type": "markdown",
      "source": [
        "## Model Implementation"
      ],
      "metadata": {
        "collapsed": false,
        "id": "PWh-Nt9DgnFf"
      }
    },
    {
      "cell_type": "code",
      "execution_count": 25,
      "outputs": [],
      "source": [
        "class net(nn.Module):\n",
        "    def __init__(self, pt_model = pt_res,\n",
        "                 fc_input_d = pt_res_out,\n",
        "                 output_d = Params['n_classes'],\n",
        "                 hidden_d = Params['hidden_d'],\n",
        "                 num_layers = Params['n_fc']):\n",
        "\n",
        "        super(net, self).__init__()\n",
        "        self.pt_model = pt_model\n",
        "        self.fc_input_d = fc_input_d\n",
        "        self.fc = nn.ModuleList([nn.Linear(\n",
        "                self.fc_input_d if layer == 0 else hidden_d,\n",
        "                output_d if layer == num_layers - 1 else hidden_d,\n",
        "            )for layer in range(num_layers)])\n",
        "        self.relu = nn.ReLU(inplace=True)\n",
        "        self.activate = nn.Sigmoid()\n",
        "\n",
        "    def forward(self, images):\n",
        "        model = self.pt_model\n",
        "        features = model(images)\n",
        "        for (index, layer) in enumerate(self.fc):\n",
        "            features = layer(features)\n",
        "            if index < len(self.fc)-1:\n",
        "                features = self.relu(features)\n",
        "        out = self.activate(features)\n",
        "        return out"
      ],
      "metadata": {
        "id": "UTAMOsbMgnFf"
      }
    },
    {
      "cell_type": "markdown",
      "source": [
        "### Test run"
      ],
      "metadata": {
        "collapsed": false,
        "id": "BhRkfrJmgnFf"
      }
    },
    {
      "cell_type": "code",
      "execution_count": 26,
      "outputs": [
        {
          "output_type": "stream",
          "name": "stdout",
          "text": [
            "The size of test_output is (32, 5)\n"
          ]
        }
      ],
      "source": [
        "test_net = net()\n",
        "test_output = test_net(torch.tensor(train_sample))\n",
        "print(\"The size of test_output is {}\".format(tuple(test_output.shape)))"
      ],
      "metadata": {
        "colab": {
          "base_uri": "https://localhost:8080/"
        },
        "id": "5rrJY0-mgnFf",
        "outputId": "936a39ee-1b57-41ec-977c-52ea23e5c440"
      }
    },
    {
      "cell_type": "markdown",
      "source": [
        "#Experiment"
      ],
      "metadata": {
        "collapsed": false,
        "id": "2Xqu3dUognFf"
      }
    },
    {
      "cell_type": "code",
      "execution_count": 27,
      "outputs": [],
      "source": [
        "from sklearn.metrics import accuracy_score\n",
        "\n",
        "def run(run_net, dataloader, run_optim, loss_func, curr_epoch, mode ='train'):\n",
        "    run_net = run_net.to(device)\n",
        "    loss_func = loss_func.to(device)\n",
        "    total_loss = 0\n",
        "    pred_store = []\n",
        "    true_store = []\n",
        "    batches = 0\n",
        "    t0 = time.time()\n",
        "    if mode == 'train':\n",
        "        run_net.train()\n",
        "        for batch_idx, (batch_data, target) in enumerate(dataloader):\n",
        "\n",
        "            batch_data, target = Variable(batch_data), Variable(target)\n",
        "            batches += 1\n",
        "            inputs = batch_data.to(device)\n",
        "            output_labels = target.to(device)\n",
        "            run_optim.zero_grad()\n",
        "            pred = run_net(inputs)\n",
        "            loss = loss_func(pred, output_labels)\n",
        "            loss.backward()\n",
        "            run_optim.step()\n",
        "            total_loss += loss\n",
        "            pred_store.append(np.argmax(pred.detach().cpu().numpy(), axis=1))\n",
        "            true_store.append(np.argmax(target.detach().cpu().numpy(), axis=1))\n",
        "\n",
        "        if batch_idx % 100 == 0: #Report stats every x batches\n",
        "                print('Train Epoch: {} [{}/{} ({:.0f}%)]\\tLoss: {:.6f}'.format(\n",
        "                    curr_epoch, (batch_idx + 1) * len(batch_data), len(dataloader.dataset),\n",
        "                                100. * (batch_idx+1) / len(dataloader), loss.item()), flush=True)\n",
        "        t1 = time.time()\n",
        "\n",
        "        av_loss = total_loss / batches\n",
        "        total_time = t1-t0\n",
        "        print('Time for epoch = ', total_time)\n",
        "\n",
        "    elif mode == 'validate':\n",
        "        run_net.eval()\n",
        "        with torch.no_grad():  # So no gradients accumulate\n",
        "            for batch_idx, (batch_data, target) in enumerate(val_dataloader):\n",
        "                batches += 1\n",
        "                batch_data, target = Variable(batch_data), Variable(target)\n",
        "                inputs = batch_data.to(device)\n",
        "                output_labels = target.to(device)\n",
        "                pred = run_net(inputs)\n",
        "                loss = loss_func(pred, output_labels)\n",
        "                total_loss += loss\n",
        "                pred_store.append(np.argmax(pred.detach().cpu().numpy(), axis=1))\n",
        "                true_store.append(np.argmax(target.detach().cpu().numpy(), axis=1))\n",
        "            av_loss = total_loss / batches\n",
        "\n",
        "    else:\n",
        "        run_net.eval()\n",
        "        with torch.no_grad():  # So no gradients accumulate\n",
        "            for batch_idx, (batch_data, target) in enumerate(val_dataloader):\n",
        "                batches += 1\n",
        "                batch_data, target = Variable(batch_data), Variable(target)\n",
        "                inputs = batch_data.to(device)\n",
        "                pred = run_net(inputs)\n",
        "                pred_store.append(np.argmax(pred.detach().cpu().numpy(), axis=1))\n",
        "                true_store.append(np.argmax(target.detach().cpu().numpy(), axis=1))\n",
        "            av_loss = 0\n",
        "\n",
        "    av_loss = av_loss.detach().cpu().numpy()\n",
        "    pred_store = np.array(pred_store).reshape(-1)\n",
        "    true_store = np.array(true_store).reshape(-1)\n",
        "    acc = accuracy_score(pred_store, true_store)\n",
        "\n",
        "    print(mode + ' set: Average loss: {:.4f}'.format(av_loss,  flush=True))\n",
        "    print(mode + ' set: Average Acc: {:.4f}'.format(acc,  flush=True))\n",
        "    print('\\n')\n",
        "\n",
        "    return av_loss, acc"
      ],
      "metadata": {
        "id": "GJtl4boYgnFf"
      }
    },
    {
      "cell_type": "markdown",
      "source": [
        "### Show Results"
      ],
      "metadata": {
        "id": "Uh33gyTlypc3"
      }
    },
    {
      "cell_type": "code",
      "execution_count": 31,
      "outputs": [
        {
          "output_type": "stream",
          "name": "stdout",
          "text": [
            "Time for epoch =  5.1869916915893555\n",
            "train set: Average loss: 1.5730\n",
            "train set: Average Acc: 0.4189\n",
            "\n",
            "\n",
            "validate set: Average loss: 1.5124\n",
            "validate set: Average Acc: 0.4583\n",
            "\n",
            "\n",
            "Time for epoch =  5.988243103027344\n",
            "train set: Average loss: 1.4668\n",
            "train set: Average Acc: 0.4502\n",
            "\n",
            "\n",
            "validate set: Average loss: 1.4293\n",
            "validate set: Average Acc: 0.4583\n",
            "\n",
            "\n",
            "Time for epoch =  5.150538682937622\n",
            "train set: Average loss: 1.4304\n",
            "train set: Average Acc: 0.4541\n",
            "\n",
            "\n",
            "validate set: Average loss: 1.4261\n",
            "validate set: Average Acc: 0.4583\n",
            "\n",
            "\n",
            "Time for epoch =  5.825965166091919\n",
            "train set: Average loss: 1.4272\n",
            "train set: Average Acc: 0.4473\n",
            "\n",
            "\n",
            "validate set: Average loss: 1.4066\n",
            "validate set: Average Acc: 0.4583\n",
            "\n",
            "\n",
            "Time for epoch =  5.950610399246216\n",
            "train set: Average loss: 1.4100\n",
            "train set: Average Acc: 0.4512\n",
            "\n",
            "\n",
            "validate set: Average loss: 1.3950\n",
            "validate set: Average Acc: 0.4583\n",
            "\n",
            "\n",
            "Time for epoch =  5.687340497970581\n",
            "train set: Average loss: 1.3903\n",
            "train set: Average Acc: 0.4600\n",
            "\n",
            "\n",
            "validate set: Average loss: 1.3599\n",
            "validate set: Average Acc: 0.4583\n",
            "\n",
            "\n",
            "Time for epoch =  5.522662162780762\n",
            "train set: Average loss: 1.3621\n",
            "train set: Average Acc: 0.4658\n",
            "\n",
            "\n",
            "validate set: Average loss: 1.3533\n",
            "validate set: Average Acc: 0.4583\n",
            "\n",
            "\n",
            "Time for epoch =  5.346102714538574\n",
            "train set: Average loss: 1.3402\n",
            "train set: Average Acc: 0.5293\n",
            "\n",
            "\n",
            "validate set: Average loss: 1.3441\n",
            "validate set: Average Acc: 0.4792\n",
            "\n",
            "\n",
            "Time for epoch =  5.7521421909332275\n",
            "train set: Average loss: 1.3126\n",
            "train set: Average Acc: 0.5693\n",
            "\n",
            "\n",
            "validate set: Average loss: 1.3403\n",
            "validate set: Average Acc: 0.5000\n",
            "\n",
            "\n",
            "Time for epoch =  5.1809937953948975\n",
            "train set: Average loss: 1.2849\n",
            "train set: Average Acc: 0.6367\n",
            "\n",
            "\n",
            "validate set: Average loss: 1.3537\n",
            "validate set: Average Acc: 0.5000\n",
            "\n",
            "\n",
            "Time for epoch =  5.982406139373779\n",
            "train set: Average loss: 1.2586\n",
            "train set: Average Acc: 0.6475\n",
            "\n",
            "\n",
            "validate set: Average loss: 1.3371\n",
            "validate set: Average Acc: 0.5208\n",
            "\n",
            "\n",
            "Time for epoch =  5.106507778167725\n",
            "train set: Average loss: 1.2180\n",
            "train set: Average Acc: 0.6934\n",
            "\n",
            "\n",
            "validate set: Average loss: 1.3177\n",
            "validate set: Average Acc: 0.5833\n",
            "\n",
            "\n",
            "Time for epoch =  5.977187633514404\n",
            "train set: Average loss: 1.1904\n",
            "train set: Average Acc: 0.7207\n",
            "\n",
            "\n",
            "validate set: Average loss: 1.3605\n",
            "validate set: Average Acc: 0.5104\n",
            "\n",
            "\n",
            "Time for epoch =  5.166420221328735\n",
            "train set: Average loss: 1.1610\n",
            "train set: Average Acc: 0.7549\n",
            "\n",
            "\n",
            "validate set: Average loss: 1.3358\n",
            "validate set: Average Acc: 0.5625\n",
            "\n",
            "\n",
            "Time for epoch =  5.906791687011719\n",
            "train set: Average loss: 1.1358\n",
            "train set: Average Acc: 0.7832\n",
            "\n",
            "\n",
            "validate set: Average loss: 1.3369\n",
            "validate set: Average Acc: 0.5417\n",
            "\n",
            "\n",
            "Time for epoch =  5.104971885681152\n",
            "train set: Average loss: 1.1202\n",
            "train set: Average Acc: 0.7998\n",
            "\n",
            "\n",
            "validate set: Average loss: 1.3543\n",
            "validate set: Average Acc: 0.5417\n",
            "\n",
            "\n",
            "Time for epoch =  5.35854697227478\n",
            "train set: Average loss: 1.0924\n",
            "train set: Average Acc: 0.8281\n",
            "\n",
            "\n",
            "validate set: Average loss: 1.3398\n",
            "validate set: Average Acc: 0.5625\n",
            "\n",
            "\n",
            "Time for epoch =  5.613086462020874\n",
            "train set: Average loss: 1.0793\n",
            "train set: Average Acc: 0.8359\n",
            "\n",
            "\n",
            "validate set: Average loss: 1.3596\n",
            "validate set: Average Acc: 0.5208\n",
            "\n",
            "\n",
            "Time for epoch =  5.18174934387207\n",
            "train set: Average loss: 1.0677\n",
            "train set: Average Acc: 0.8506\n",
            "\n",
            "\n",
            "validate set: Average loss: 1.3462\n",
            "validate set: Average Acc: 0.5625\n",
            "\n",
            "\n",
            "Time for epoch =  6.328349828720093\n",
            "train set: Average loss: 1.0679\n",
            "train set: Average Acc: 0.8467\n",
            "\n",
            "\n",
            "validate set: Average loss: 1.3641\n",
            "validate set: Average Acc: 0.5312\n",
            "\n",
            "\n",
            "Time for epoch =  5.464629650115967\n",
            "train set: Average loss: 1.0513\n",
            "train set: Average Acc: 0.8516\n",
            "\n",
            "\n",
            "validate set: Average loss: 1.3623\n",
            "validate set: Average Acc: 0.5312\n",
            "\n",
            "\n",
            "Time for epoch =  6.086732864379883\n",
            "train set: Average loss: 1.0493\n",
            "train set: Average Acc: 0.8525\n",
            "\n",
            "\n",
            "validate set: Average loss: 1.3630\n",
            "validate set: Average Acc: 0.5312\n",
            "\n",
            "\n",
            "Validation loss has not improved for 10 epochs, stopping training.\n"
          ]
        },
        {
          "output_type": "display_data",
          "data": {
            "text/plain": [
              "<Figure size 720x432 with 2 Axes>"
            ],
            "image/png": "[encoded data removed]"
          },
          "metadata": {
            "needs_background": "light"
          }
        }
      ],
      "source": [
        "DRnet = net()\n",
        "criterion = nn.CrossEntropyLoss()\n",
        "optimizer = optim.Adam(DRnet.parameters(), lr = Params['lr'])\n",
        "patience = Params['stop']\n",
        "best_val_loss = float('inf')\n",
        "losses = []\n",
        "max_epochs = Params['n_Epochs']\n",
        "num_epochs_since_best = 0\n",
        "end_epoch = max_epochs\n",
        "for epoch in range(1, max_epochs+1):\n",
        "    train_loss, train_acc = run(DRnet, train_dataloader, optimizer, criterion, epoch, mode = \"train\")\n",
        "    val_loss, val_acc = run(DRnet, val_dataloader, optimizer, criterion, epoch, mode = \"validate\")\n",
        "    losses.append([train_loss, train_acc, val_loss, val_acc])\n",
        "    if val_loss < best_val_loss:\n",
        "        best_val_loss = val_loss\n",
        "        num_epochs_since_best = 0\n",
        "    else:\n",
        "        num_epochs_since_best += 1\n",
        "    if num_epochs_since_best >= patience:\n",
        "        print(f\"Validation loss has not improved for {patience} epochs, stopping training.\")\n",
        "        end_epoch = epoch\n",
        "        break\n",
        "plot_loss_acc(losses, end_epoch)"
      ],
      "metadata": {
        "colab": {
          "base_uri": "https://localhost:8080/",
          "height": 1000
        },
        "id": "3gm7z0XkgnFg",
        "outputId": "ed22a155-b5ee-483c-db24-f8b0d0b9b6ba"
      }
    },
    {
      "cell_type": "code",
      "execution_count": null,
      "outputs": [],
      "source": [],
      "metadata": {
        "id": "lJKtyMojgnFg"
      }
    }
  ]
}